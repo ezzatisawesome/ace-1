{
 "cells": [
  {
   "cell_type": "code",
   "execution_count": 2,
   "metadata": {},
   "outputs": [],
   "source": [
    "import aerosandbox as asb\n",
    "import aerosandbox.numpy as np"
   ]
  },
  {
   "cell_type": "code",
   "execution_count": 3,
   "metadata": {},
   "outputs": [
    {
     "name": "stdout",
     "output_type": "stream",
     "text": [
      "3704074.1750663915\n"
     ]
    }
   ],
   "source": [
    "### Constants\n",
    "# World\n",
    "g = 9.81  # [m/s^2]\n",
    "e = 0.7  # Oswald efficiency factor standard for A320\n",
    "\n",
    "# Operating conditions\n",
    "cruise_alt = 11000  # [m]\n",
    "service_ceil = 13100  # [m]\n",
    "atm = asb.atmosphere.Atmosphere(cruise_alt)\n",
    "cruise_mach = 0.5  # [mach]\n",
    "cruise_speed = atm.speed_of_sound() * cruise_mach\n",
    "viscosity = atm.dynamic_viscosity()\n",
    "reynolds_num_no_length = (atm.density() * (cruise_speed)) / viscosity\n",
    "print(reynolds_num_no_length)\n"
   ]
  },
  {
   "cell_type": "code",
   "execution_count": 4,
   "metadata": {},
   "outputs": [
    {
     "name": "stdout",
     "output_type": "stream",
     "text": [
      "0.4446594798661119\n"
     ]
    }
   ],
   "source": [
    "turbulent_f = 0.455 / (1 + (0.144 * (cruise_mach)**2))**0.65\n",
    "print(\"Turbulent Friction Factor/length: \", turbulent_f)\n"
   ]
  },
  {
   "cell_type": "code",
   "execution_count": 5,
   "metadata": {},
   "outputs": [
    {
     "name": "stdout",
     "output_type": "stream",
     "text": [
      "Fuselage Form Factor:  1.0523558792928644\n"
     ]
    }
   ],
   "source": [
    "#Calculate the form factor for the fuselage\n",
    "l = 43.8 #m\n",
    "d = 3.7 #m\n",
    "f = l / d\n",
    "\n",
    "FF = 0.9 + (5 / (f**1.5)) + (f / 400)\n",
    "print(\"Fuselage Form Factor: \", FF)\n"
   ]
  },
  {
   "cell_type": "code",
   "execution_count": 6,
   "metadata": {},
   "outputs": [
    {
     "name": "stdout",
     "output_type": "stream",
     "text": [
      "Nacelle Form Factor:  1.170731707317073\n"
     ]
    }
   ],
   "source": [
    "# Calculate the form factor for the nacelles\n",
    "l_nacelle = 4.1 #m\n",
    "d_nacelle = 2 #m\n",
    "f_nacelle = l_nacelle / d_nacelle\n",
    "\n",
    "FF = 1 + (0.35 / f_nacelle)\n",
    "print(\"Nacelle Form Factor: \", FF)\n"
   ]
  },
  {
   "cell_type": "code",
   "execution_count": 11,
   "metadata": {},
   "outputs": [
    {
     "name": "stdout",
     "output_type": "stream",
     "text": [
      "Wing Form Factor:  1.4654789408060491\n"
     ]
    }
   ],
   "source": [
    "# Calculate the wing form factor\n",
    "xc = 0.3 #m\n",
    "tc = .12\n",
    "sweep = np.radians(20)\n",
    "FF = (1 + (.6 * tc / xc) + (100 * tc**4)) * (1.34 * (cruise_mach**0.18) * (np.cos(sweep)**0.28))\n",
    "print(\"Wing Form Factor: \", FF)"
   ]
  }
 ],
 "metadata": {
  "kernelspec": {
   "display_name": "Python 3",
   "language": "python",
   "name": "python3"
  },
  "language_info": {
   "codemirror_mode": {
    "name": "ipython",
    "version": 3
   },
   "file_extension": ".py",
   "mimetype": "text/x-python",
   "name": "python",
   "nbconvert_exporter": "python",
   "pygments_lexer": "ipython3",
   "version": "3.10.0"
  }
 },
 "nbformat": 4,
 "nbformat_minor": 2
}
